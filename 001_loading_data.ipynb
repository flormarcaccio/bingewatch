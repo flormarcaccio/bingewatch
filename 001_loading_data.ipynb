{
 "cells": [
  {
   "cell_type": "code",
   "execution_count": 2,
   "metadata": {},
   "outputs": [],
   "source": [
    "from datetime import datetime\n",
    "import pandas as pd\n",
    "import numpy as np\n",
    "from scipy import sparse\n",
    "from sklearn.metrics.pairwise import cosine_similarity\n",
    "import pickle"
   ]
  },
  {
   "cell_type": "markdown",
   "metadata": {},
   "source": [
    "# Netflix"
   ]
  },
  {
   "cell_type": "code",
   "execution_count": 53,
   "metadata": {},
   "outputs": [],
   "source": [
    "def formatting_data(file_path):\n",
    "    f = open(file_path, 'rt')\n",
    "\n",
    "    data = f.readlines()\n",
    "\n",
    "    final_list = []\n",
    "    for i, line in enumerate(data):\n",
    "        if ':' in line:\n",
    "            current_movie_id = int(line[:-2])\n",
    "        elif ',' in line:\n",
    "            tmp = line[:-1].split(',')\n",
    "            final_list.append([current_movie_id, int(tmp[0]), int(tmp[1]), tmp[2]])\n",
    "    \n",
    "    return final_list"
   ]
  },
  {
   "cell_type": "markdown",
   "metadata": {},
   "source": [
    "Loading all four files with movie ratings:"
   ]
  },
  {
   "cell_type": "code",
   "execution_count": 36,
   "metadata": {},
   "outputs": [
    {
     "name": "stdout",
     "output_type": "stream",
     "text": [
      "100480507\n",
      "0:30:29.084828\n"
     ]
    }
   ],
   "source": [
    "startTime = datetime.now()\n",
    "\n",
    "data = formatting_data('netflix-prize-data/combined_data_1.txt')\n",
    "data += formatting_data('netflix-prize-data/combined_data_2.txt')\n",
    "data += formatting_data('netflix-prize-data/combined_data_3.txt')\n",
    "data += formatting_data('netflix-prize-data/combined_data_4.txt')\n",
    "\n",
    "df_netflix = pd.DataFrame(data, columns = ['movie_id', 'user_id', 'rating', 'rating_date'])\n",
    "df_netflix.to_csv('netflix-prize-data/netflix_data.csv')\n",
    "\n",
    "print(len(data))\n",
    "del data\n",
    "print(datetime.now() - startTime)"
   ]
  },
  {
   "cell_type": "markdown",
   "metadata": {},
   "source": [
    "Explore data:"
   ]
  },
  {
   "cell_type": "code",
   "execution_count": 39,
   "metadata": {},
   "outputs": [
    {
     "name": "stdout",
     "output_type": "stream",
     "text": [
      "Data info:\n",
      "Total number of ratings = 100480507\n",
      "Unique movies = 17770\n",
      "Unique users = 480189\n"
     ]
    }
   ],
   "source": [
    "print(\"Data info:\")\n",
    "print(\"Total number of ratings = \"+str(df_netflix.shape[0]))\n",
    "print(\"Unique movies = \"+str(len(np.unique(df_netflix[\"movie_id\"]))))\n",
    "print(\"Unique users = \"+str(len(np.unique(df_netflix[\"user_id\"]))))"
   ]
  },
  {
   "cell_type": "code",
   "execution_count": 40,
   "metadata": {},
   "outputs": [
    {
     "name": "stdout",
     "output_type": "stream",
     "text": [
      "Duplicated rows = 0\n"
     ]
    }
   ],
   "source": [
    "print(\"Duplicated rows = \"+str(df_netflix.duplicated([\"movie_id\",\"user_id\", \"rating\"]).sum()))"
   ]
  },
  {
   "cell_type": "code",
   "execution_count": 41,
   "metadata": {},
   "outputs": [
    {
     "name": "stdout",
     "output_type": "stream",
     "text": [
      "Number of NaN values = movie_id       0\n",
      "user_id        0\n",
      "rating         0\n",
      "rating_date    0\n",
      "dtype: int64\n"
     ]
    }
   ],
   "source": [
    "print(\"Number of NaN values = \"+str(df_netflix.isnull().sum()))"
   ]
  },
  {
   "cell_type": "markdown",
   "metadata": {},
   "source": [
    "Creating sparse matrix and calculating similarity between movies:"
   ]
  },
  {
   "cell_type": "code",
   "execution_count": 42,
   "metadata": {},
   "outputs": [],
   "source": [
    "sparse_data = sparse.csr_matrix((df_netflix.rating, (df_netflix.user_id, df_netflix.movie_id)))"
   ]
  },
  {
   "cell_type": "code",
   "execution_count": 43,
   "metadata": {},
   "outputs": [
    {
     "data": {
      "text/plain": [
       "(2649430, 17771)"
      ]
     },
     "execution_count": 43,
     "metadata": {},
     "output_type": "execute_result"
    }
   ],
   "source": [
    "sparse_data.shape"
   ]
  },
  {
   "cell_type": "code",
   "execution_count": 44,
   "metadata": {},
   "outputs": [],
   "source": [
    "similarity = cosine_similarity(sparse_data.T, dense_output = False)"
   ]
  },
  {
   "cell_type": "markdown",
   "metadata": {},
   "source": [
    "Creating a dictionary with all the similar movies:"
   ]
  },
  {
   "cell_type": "code",
   "execution_count": 45,
   "metadata": {},
   "outputs": [],
   "source": [
    "movie_ids = np.unique(similarity.nonzero())"
   ]
  },
  {
   "cell_type": "code",
   "execution_count": 47,
   "metadata": {},
   "outputs": [],
   "source": [
    "similar_movies_dict = dict()\n",
    "for movie in movie_ids:\n",
    "    rec_movies = np.argsort(-similarity[movie].toarray().ravel())[1:100]\n",
    "    similar_movies_dict[movie] = rec_movies"
   ]
  },
  {
   "cell_type": "markdown",
   "metadata": {},
   "source": [
    "Storing dictionary in data folder:"
   ]
  },
  {
   "cell_type": "code",
   "execution_count": 50,
   "metadata": {},
   "outputs": [],
   "source": [
    "with open('data/dict_recommendations.pkl', 'wb') as f:\n",
    "    pickle.dump(similar_movies_dict, f, protocol=pickle.HIGHEST_PROTOCOL)"
   ]
  },
  {
   "cell_type": "markdown",
   "metadata": {},
   "source": [
    "# IMDB"
   ]
  },
  {
   "cell_type": "code",
   "execution_count": null,
   "metadata": {},
   "outputs": [],
   "source": []
  },
  {
   "cell_type": "code",
   "execution_count": null,
   "metadata": {},
   "outputs": [],
   "source": []
  },
  {
   "cell_type": "code",
   "execution_count": null,
   "metadata": {},
   "outputs": [],
   "source": [
    "#HOW TO RECOMMEND TOP 10 MOVIES\n",
    "#Loading movie titles\n",
    "#movie_titles = pd.read_csv('data/movie_titles.csv', sep = ',', names = ['movie_id', 'year_released', 'title'], index_col = 'movie_id', encoding = 'iso8859_2')\n",
    "\n",
    "#Loading recommendation dictionary\n",
    "#dict_rec = {}\n",
    "#with open('data/dict_recommendations.pkl', 'rb') as f:\n",
    "#    dict_rec = pickle.load(f)\n",
    "\n",
    "#base_movie_id = 28\n",
    "\n",
    "#movie_titles.loc[dict_rec[base_movie_id][:10]]"
   ]
  }
 ],
 "metadata": {
  "kernelspec": {
   "display_name": "Python 3",
   "language": "python",
   "name": "python3"
  },
  "language_info": {
   "codemirror_mode": {
    "name": "ipython",
    "version": 3
   },
   "file_extension": ".py",
   "mimetype": "text/x-python",
   "name": "python",
   "nbconvert_exporter": "python",
   "pygments_lexer": "ipython3",
   "version": "3.7.4"
  }
 },
 "nbformat": 4,
 "nbformat_minor": 2
}
