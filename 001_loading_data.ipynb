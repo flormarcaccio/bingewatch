{
 "cells": [
  {
   "cell_type": "code",
   "execution_count": 34,
   "metadata": {},
   "outputs": [],
   "source": [
    "import pandas as pd"
   ]
  },
  {
   "cell_type": "code",
   "execution_count": 49,
   "metadata": {},
   "outputs": [],
   "source": [
    "def formatting_data(file_path):\n",
    "    f = open(file_path, 'rt')\n",
    "\n",
    "    data = f.readlines()\n",
    "\n",
    "    final_list = []\n",
    "    #storing in a list instead of a df, it was taking too long\n",
    "    #df = pd.DataFrame(columns=['movie_id', 'user_id', 'rating', 'rating_date'])\n",
    "\n",
    "    for i, line in enumerate(data):\n",
    "        if ':' in line:\n",
    "            current_movie_id = int(line[:-2])\n",
    "        elif ',' in line:\n",
    "            tmp = line[:-1].split(',')\n",
    "            final_list.append([current_movie_id, int(tmp[0]), int(tmp[1]), tmp[2]])\n",
    "            #df2 = pd.DataFrame([[current_movie_id, int(tmp[0]), int(tmp[1]), tmp[2]]], columns=['movie_id', 'user_id', 'rating', 'rating_date'])\n",
    "            #df = df.append(df2, ignore_index=True)\n",
    "    \n",
    "    return final_list"
   ]
  },
  {
   "cell_type": "code",
   "execution_count": 50,
   "metadata": {},
   "outputs": [
    {
     "data": {
      "text/plain": [
       "51031355"
      ]
     },
     "execution_count": 50,
     "metadata": {},
     "output_type": "execute_result"
    }
   ],
   "source": [
    "data = formatting_data('netflix-prize-data/combined_data_1.txt')\n",
    "data += formatting_data('netflix-prize-data/combined_data_2.txt')\n",
    "#there are a couple more files, should we use all the data?\n",
    "len(data)"
   ]
  },
  {
   "cell_type": "code",
   "execution_count": 52,
   "metadata": {},
   "outputs": [],
   "source": [
    "movie_titles = pd.read_csv('netflix-prize-data/movie_titles.csv', sep = ',', names = ['movie_id', 'year_released', 'title'], encoding='latin1')"
   ]
  },
  {
   "cell_type": "code",
   "execution_count": null,
   "metadata": {},
   "outputs": [],
   "source": []
  }
 ],
 "metadata": {
  "kernelspec": {
   "display_name": "Python 3",
   "language": "python",
   "name": "python3"
  },
  "language_info": {
   "codemirror_mode": {
    "name": "ipython",
    "version": 3
   },
   "file_extension": ".py",
   "mimetype": "text/x-python",
   "name": "python",
   "nbconvert_exporter": "python",
   "pygments_lexer": "ipython3",
   "version": "3.7.4"
  }
 },
 "nbformat": 4,
 "nbformat_minor": 2
}
